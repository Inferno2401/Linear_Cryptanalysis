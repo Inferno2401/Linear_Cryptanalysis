{
 "cells": [
  {
   "cell_type": "code",
   "execution_count": 547,
   "metadata": {},
   "outputs": [],
   "source": [
    "import des\n",
    "import numpy as np\n",
    "import secrets\n",
    "\n",
    "# an attempt to find K1[22] xor K3[22] using the linear equation\n",
    "# PH[a]+PL[15]+CH[a]+CL[15] = K1[22]+K3[22] holding wp 0.70"
   ]
  },
  {
   "cell_type": "code",
   "execution_count": 548,
   "metadata": {},
   "outputs": [],
   "source": [
    "KEY = bin(secrets.randbits(64))[2:].zfill(64)\n",
    "\n",
    "# set up variables\n",
    "ROUNDS = 3\n",
    "N = 50 # for probability of success 99.8%\n",
    "P = list(map(lambda x: bin(x)[2:].zfill(64), 1+np.random.randint(-1,1<<64-1, size=(N,))))\n",
    "C = list(des.encrypt(p, KEY, ROUNDS) for p in P)"
   ]
  },
  {
   "cell_type": "code",
   "execution_count": 549,
   "metadata": {},
   "outputs": [
    {
     "name": "stdout",
     "output_type": "stream",
     "text": [
      "1011010001011011001000111100010010011101111000111101000111110101\n"
     ]
    }
   ],
   "source": [
    "print(KEY)\n",
    "# print(P)\n",
    "# print(C)"
   ]
  },
  {
   "cell_type": "code",
   "execution_count": 550,
   "metadata": {},
   "outputs": [],
   "source": [
    "def multi_xor(string: str, indices: list):\n",
    "    ones = len(string) - sum(string[index] == '0' for index in indices)\n",
    "    return 1 if ones&1 else 0 # not a string, notice"
   ]
  },
  {
   "cell_type": "code",
   "execution_count": 551,
   "metadata": {},
   "outputs": [
    {
     "name": "stdout",
     "output_type": "stream",
     "text": [
      "1\n",
      "1\n"
     ]
    }
   ],
   "source": [
    "T = 0\n",
    "for p,c in zip(P, C): # turn into sum\n",
    "    T += (1 - (multi_xor(p, [2, 7, 13, 24, 48])^multi_xor(c, [2, 7, 13, 24, 48])))\n",
    "print(0 if T>N/2 else 1)\n",
    "print(multi_xor(KEY, [8, 11]))"
   ]
  }
 ],
 "metadata": {
  "kernelspec": {
   "display_name": "Python 3",
   "language": "python",
   "name": "python3"
  },
  "language_info": {
   "codemirror_mode": {
    "name": "ipython",
    "version": 3
   },
   "file_extension": ".py",
   "mimetype": "text/x-python",
   "name": "python",
   "nbconvert_exporter": "python",
   "pygments_lexer": "ipython3",
   "version": "3.10.8"
  },
  "orig_nbformat": 4
 },
 "nbformat": 4,
 "nbformat_minor": 2
}
